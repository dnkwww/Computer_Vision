{
 "cells": [
  {
   "cell_type": "code",
   "execution_count": 1,
   "metadata": {},
   "outputs": [],
   "source": [
    "#double threshold for color range detection\n",
    "\n",
    "import cv2\n",
    "import numpy as np\n",
    "\n",
    "def hMaxCallback(pos):\n",
    "    pass\n",
    "def hMinCallback(pos):\n",
    "    pass\n",
    "\n",
    "cv2.namedWindow('Test')\n",
    "cv2.createTrackbar('BlueMin', 'Test',   0, 255, hMinCallback)\n",
    "cv2.createTrackbar('BlueMax', 'Test',  20, 255, hMaxCallback) \n",
    "\n",
    "out_size = (480, 270)\n",
    "cap = cv2.VideoCapture('WiiPlay.mp4')\n",
    "# Check if the video file is opened correctly\n",
    "if not cap.isOpened():\n",
    "    raise IOError(\"Cannot open the video file\")\n",
    " \n",
    "while True:\n",
    "    ret, frame = cap.read()\n",
    "    if ret == False:\n",
    "        break\n",
    "    cur_frame = cv2.resize(frame, out_size, 0, 0, interpolation=cv2.INTER_AREA)\n",
    "    hMax = cv2.getTrackbarPos('BlueMax','Test')\n",
    "    hMin = cv2.getTrackbarPos('BlueMin','Test')\n",
    "    cv2.imshow('Input', cur_frame)\n",
    "    \n",
    "    lower_color = np.array([hMin, 0, 0])\n",
    "    upper_color = np.array([hMax, 255, 255])\n",
    "    mask = cv2.inRange(cur_frame, lower_color, upper_color)\n",
    "    cv2.imshow('Test', mask)\n",
    "\n",
    "    c = cv2.waitKey(1)\n",
    "    if c == 32:\n",
    "        cv2.waitKey()\n",
    "    if c == 27:\n",
    "        break\n",
    "cap.release()\n",
    "cv2.destroyAllWindows()"
   ]
  },
  {
   "cell_type": "markdown",
   "metadata": {},
   "source": [
    "##### %%writefile test\n",
    "## Midterm\n",
    "<b>The general objective is to detect blue cursor, yellow timer, and human skin from input video. Your output should be similar to midterm_demo.mp4. Please complete steps 1-10 in one single code cell, steps 11-12 in another markdown cell, and upload your Jupyter notebook file (*.ipynb). The whole process can be divided to the following steps:</b>\n",
    "1. (5pts) Input images from video file WiiPlay.mp4 with the same level number as the last two digits of your student id, and show the images in the \"input\" window.\n",
    "2. (5pts) Use <i>cv2.cvtColor()</i> to convert images from BGR to HSV format.\n",
    "3. (10pts) Use <i>cv2.createTrackbar()</i> to create six trackbars (HueMin, HueMax, SatMin SatMax, ValMin, ValMax), and use <i>cv2.getTrackbarPos()</i> to get the current value of each trackbar.\n",
    "4. (10pts) Use <i>cv2.threshold()</i> or <i>cv2.inRange()</i> to apply double thresholding to each channel (Hue, Sat, Val) based on current values of the six trackbars\n",
    "5. (10pts) Apply morphological filters to remove noise (outliers & holes), and show the detected regions in the \"test\" window..\n",
    "6. (10pts) Find out the best color range to detect <b>blue cursor</b>, apply these thresholds, and show the detected regions in the \"cursor\" window.\n",
    "7. (10pts) Find out the best color range to detect <b>yellow timer</b>, apply these thresholds, and show the detected regions in the \"timer\" window.\n",
    "8. (10pts) Find out the best color range to detect <b>human skin</b>, apply these thresholds, and show the detected regions in the \"skin\" window.\n",
    "9. (10pts) Use <i>cv2.connectedComponents()</i> and <i>cv2.putText()</i> to count and display how many skin regions in each frame.\n",
    "10. (10pts) Show each individual skin region using different color.\n",
    "11. (5pts) Any comments regarding the midterm? Which steps you believe you have completed? Which steps bother you?\n",
    "12. (5pts) Any comments regarding the classes up to now? pace too fast or slow? quiz too hard or simple? prefer C or Python?\n",
    " "
   ]
  },
  {
   "cell_type": "code",
   "execution_count": null,
   "metadata": {},
   "outputs": [],
   "source": []
  }
 ],
 "metadata": {
  "kernelspec": {
   "display_name": "Python 3 (ipykernel)",
   "language": "python",
   "name": "python3"
  },
  "language_info": {
   "codemirror_mode": {
    "name": "ipython",
    "version": 3
   },
   "file_extension": ".py",
   "mimetype": "text/x-python",
   "name": "python",
   "nbconvert_exporter": "python",
   "pygments_lexer": "ipython3",
   "version": "3.9.13"
  }
 },
 "nbformat": 4,
 "nbformat_minor": 4
}
