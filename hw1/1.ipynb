{
 "cells": [
  {
   "cell_type": "code",
   "execution_count": 3,
   "id": "1967bfc4",
   "metadata": {},
   "outputs": [],
   "source": [
    "import cv2\n",
    "import numpy as np\n",
    "\n",
    "cap = cv2.VideoCapture(0)\n",
    "if not cap.isOpened():\n",
    "    raise IOError(\"Cannot open webcam\")\n",
    "\n",
    "alpha = 1\n",
    "threshold = 60\n",
    "\n",
    "adaptive_background = None\n",
    "\n",
    "virtual_scene = cv2.imread('virtual_scene.jpg')\n",
    "virtual_scene = cv2.resize(virtual_scene, (640, 480))\n",
    "\n",
    "while True:\n",
    "    ret, frame = cap.read()\n",
    "    if not ret:\n",
    "        break\n",
    "    frame = cv2.resize(frame, None, fx=0.5, fy=0.5, interpolation=cv2.INTER_AREA)\n",
    "\n",
    "    # Adaptive Background Image\n",
    "    if adaptive_background is None:\n",
    "        adaptive_background = frame.astype(float)\n",
    "    else:\n",
    "        adaptive_background = alpha * adaptive_background + (1 - alpha) * frame # B(t)=alphaB(t-1)+(1-alpha)I(t)\n",
    "\n",
    "    # Adaptive Background Subtraction\n",
    "    # S(t)=abs(I(t)-B(t))\n",
    "    foreground_mask = cv2.absdiff(frame, adaptive_background.astype(np.uint8))\n",
    "    \n",
    "    # Foreground Detection\n",
    "    foreground_detection = np.where(foreground_mask > threshold, frame, 0) # F(t)=I(t), if S(t) > Threshold\n",
    "\n",
    "    # Synthesis an image by keeping the foreground, and replacing the background using any virtual scene image of your choice.\n",
    "    virtual_scene_resized = cv2.resize(virtual_scene, (foreground_detection.shape[1], foreground_detection.shape[0]))\n",
    "    synthesized_image = np.where(foreground_detection > 0, foreground_detection, virtual_scene_resized)\n",
    "\n",
    "    cv2.imshow('123', adaptive_background)\n",
    "    cv2.imshow('Captured Image', frame)\n",
    "    cv2.imshow('Adaptive Background Subtraction', foreground_mask)\n",
    "    cv2.imshow('Foreground Detection', foreground_detection)\n",
    "    cv2.imshow('Synthesized Image', synthesized_image)\n",
    " \n",
    "    c = cv2.waitKey(1)\n",
    "    if c == 27:\n",
    "        break\n",
    "\n",
    "cap.release()\n",
    "cv2.destroyAllWindows()"
   ]
  },
  {
   "cell_type": "code",
   "execution_count": null,
   "id": "2386b0f7",
   "metadata": {},
   "outputs": [],
   "source": []
  },
  {
   "cell_type": "code",
   "execution_count": null,
   "id": "a5385cdf",
   "metadata": {},
   "outputs": [],
   "source": []
  }
 ],
 "metadata": {
  "kernelspec": {
   "display_name": "Python 3 (ipykernel)",
   "language": "python",
   "name": "python3"
  },
  "language_info": {
   "codemirror_mode": {
    "name": "ipython",
    "version": 3
   },
   "file_extension": ".py",
   "mimetype": "text/x-python",
   "name": "python",
   "nbconvert_exporter": "python",
   "pygments_lexer": "ipython3",
   "version": "3.9.13"
  }
 },
 "nbformat": 4,
 "nbformat_minor": 5
}
