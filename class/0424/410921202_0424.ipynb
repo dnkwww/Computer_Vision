{
 "cells": [
  {
   "cell_type": "markdown",
   "id": "41ddbd6f-bc5f-46dd-8f07-83a29a0951f5",
   "metadata": {},
   "source": [
    "## 410921202 資工四 林芷萱 0424 Practice"
   ]
  },
  {
   "cell_type": "code",
   "execution_count": null,
   "id": "661e2831-624a-4a49-9442-13bed48a996e",
   "metadata": {},
   "outputs": [],
   "source": [
    "import cv2\n",
    "import numpy as np\n",
    "\n",
    "image = cv2.imread('red_blood_cell.jpg', cv2.IMREAD_COLOR)\n",
    "gray_image = cv2.cvtColor(image, cv2.COLOR_BGR2GRAY) # 將圖像轉換為灰度\n",
    "\n",
    "# Use morphological filters to remove noise.\n",
    "kernel = np.ones((5,5),np.uint8)\n",
    "filtered_image = cv2.morphologyEx(gray_image, cv2.MORPH_OPEN, kernel)\n",
    "\n",
    "# 檢測圓形結構\n",
    "circles = cv2.HoughCircles(filtered_image, cv2.HOUGH_GRADIENT, dp=1, minDist=10, param1=20, param2=10, minRadius=5, maxRadius=10)\n",
    "\n",
    "if circles is not None:\n",
    "    circles = np.uint16(np.around(circles))\n",
    "    cell_count = len(circles[0])\n",
    "    \n",
    "    # 在圖像上繪製檢測到的圓\n",
    "    for i in circles[0, :]:\n",
    "        center = (i[0], i[1])\n",
    "        radius = i[2]\n",
    "        color = tuple(np.random.randint(0, 255, 3).tolist())  # 隨機生成顏色\n",
    "        cv2.circle(image, center, radius, color, 2)\n",
    "\n",
    "    # 在左上角寫上細胞數量\n",
    "    cv2.putText(image, f'Cell Count: {cell_count}', (10, 30), cv2.FONT_HERSHEY_SIMPLEX, 1, (0, 255, 0), 2)\n",
    "\n",
    "    cv2.imshow('Output Image', image)\n",
    "    cv2.waitKey(0)\n",
    "    cv2.destroyAllWindows()\n",
    "else:\n",
    "    print(\"No circles detected.\")\n"
   ]
  },
  {
   "cell_type": "code",
   "execution_count": null,
   "id": "f8029076-303a-49ae-9212-e1a457f41460",
   "metadata": {},
   "outputs": [],
   "source": []
  }
 ],
 "metadata": {
  "kernelspec": {
   "display_name": "Python 3 (ipykernel)",
   "language": "python",
   "name": "python3"
  },
  "language_info": {
   "codemirror_mode": {
    "name": "ipython",
    "version": 3
   },
   "file_extension": ".py",
   "mimetype": "text/x-python",
   "name": "python",
   "nbconvert_exporter": "python",
   "pygments_lexer": "ipython3",
   "version": "3.9.13"
  }
 },
 "nbformat": 4,
 "nbformat_minor": 5
}
