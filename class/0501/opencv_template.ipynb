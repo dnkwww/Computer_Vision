{
 "cells": [
  {
   "cell_type": "code",
   "execution_count": 4,
   "metadata": {},
   "outputs": [
    {
     "name": "stdout",
     "output_type": "stream",
     "text": [
      "Number of keypoints with non max suppression: 1356\n",
      "Total Keypoints without nonmaxSuppression: 5705\n"
     ]
    }
   ],
   "source": [
    "#Fast feature detection\n",
    "\n",
    "import cv2\n",
    "import numpy as np\n",
    "\n",
    "input_image = cv2.imread('lena.png')\n",
    "gray_image = cv2.cvtColor(input_image, cv2.COLOR_BGR2GRAY)\n",
    "# Version under opencv 3.0.0 cv2.FastFeatureDetector()\n",
    "fast = cv2.FastFeatureDetector_create()\n",
    "\n",
    "# Detect keypoints\n",
    "keypoints = fast.detect(gray_image, True)\n",
    "print(\"Number of keypoints with non max suppression:\", len(keypoints))\n",
    "# Draw keypoints on top of the input image\n",
    "img_keypoints_with_nonmax=input_image.copy()\n",
    "cv2.drawKeypoints(input_image, keypoints, img_keypoints_with_nonmax, color=(0,255,0), flags=cv2.DRAW_MATCHES_FLAGS_DRAW_RICH_KEYPOINTS) \n",
    "cv2.imshow('FAST keypoints - with non max suppression', img_keypoints_with_nonmax)\n",
    " \n",
    "# Disable nonmaxSuppression\n",
    "fast.setNonmaxSuppression(False)\n",
    "# Detect keypoints again\n",
    "keypoints = fast.detect(gray_image, False)\n",
    "print(\"Total Keypoints without nonmaxSuppression:\", len(keypoints))\n",
    "# Draw keypoints on top of the input image\n",
    "img_keypoints_without_nonmax=input_image.copy()\n",
    "cv2.drawKeypoints(input_image, keypoints, img_keypoints_without_nonmax, color=(0,255,0), flags=cv2.DRAW_MATCHES_FLAGS_DRAW_RICH_KEYPOINTS)\n",
    "cv2.imshow('FAST keypoints - without non max suppression', img_keypoints_without_nonmax)\n",
    "\n",
    "cv2.waitKey()\n",
    "cv2.destroyAllWindows()"
   ]
  },
  {
   "cell_type": "code",
   "execution_count": 1,
   "metadata": {},
   "outputs": [],
   "source": [
    "# SIFT feature detection\n",
    "# need rebuild opencv contrib module from source\n",
    "\n",
    "import cv2\n",
    "import numpy as np\n",
    "input_image = cv2.imread('sakura.jpg')\n",
    "gray_image = cv2.cvtColor(input_image, cv2.COLOR_BGR2GRAY)\n",
    "# For version opencv < 3.0.0, use cv2.SIFT()\n",
    "sift = cv2.SIFT_create()\n",
    "keypoints = sift.detect(gray_image, None)\n",
    "# cv2.drawKeypoints(input_image, keypoints, input_image, keypoints,flags = cv2.DRAW_MATCHES_FLAGS_DRAW_RICH_KEYPOINTS)\n",
    "output_image = cv2.drawKeypoints(input_image, keypoints, None, flags=cv2.DRAW_MATCHES_FLAGS_DRAW_RICH_KEYPOINTS)\n",
    "cv2.imshow('SIFT features', output_image)\n",
    "cv2.waitKey()\n",
    "cv2.destroyAllWindows()"
   ]
  },
  {
   "cell_type": "code",
   "execution_count": 3,
   "metadata": {},
   "outputs": [
    {
     "name": "stdout",
     "output_type": "stream",
     "text": [
      "(238, 312, 3)\n",
      "(30, 29, 3)\n"
     ]
    }
   ],
   "source": [
    "#template matching\n",
    "import cv2\n",
    "import numpy as np\n",
    "\n",
    "img = cv2.imread('red_blood_cell.jpg', cv2.IMREAD_COLOR)\n",
    "height, width = img.shape[0:2]\n",
    "print(img.shape)\n",
    "show_img = np.copy(img)\n",
    "mouse_pressed = False\n",
    "y0 = x0 = w = h = 0\n",
    "\n",
    "def mouse_callback(event, _x, _y, flags, param):\n",
    "    global show_img, x0, y0, w, h, mouse_pressed\n",
    "    if event == cv2.EVENT_LBUTTONDOWN:\n",
    "        mouse_pressed = True\n",
    "        x0, y0 = _x, _y\n",
    "        show_img = np.copy(img)\n",
    "    elif event == cv2.EVENT_MOUSEMOVE:\n",
    "        if mouse_pressed:\n",
    "            show_img = np.copy(img)\n",
    "            cv2.rectangle(show_img, (x0, y0), (_x, _y), (0, 255, 0), 2)\n",
    "    elif event == cv2.EVENT_LBUTTONUP:\n",
    "        mouse_pressed = False\n",
    "        w, h = _x - x0, _y - y0\n",
    "        \n",
    "cv2.namedWindow('image')\n",
    "cv2.setMouseCallback('image', mouse_callback)\n",
    "\n",
    "#Acquire a template through mouse dragging\n",
    "while True:\n",
    "    cv2.imshow('image', show_img)\n",
    "    k = cv2.waitKey(1)\n",
    "    #chr(97) => 'a'\n",
    "    #ord('a') => 97\n",
    "    if k == ord('a') and not mouse_pressed:\n",
    "        if w*h > 0:\n",
    "            break\n",
    "cv2.destroyAllWindows()\n",
    "\n",
    "template = np.copy(img[y0:y0+h, x0:x0+w])\n",
    "print(template.shape)\n",
    "methods = ['cv2.TM_CCOEFF', 'cv2.TM_CCOEFF_NORMED', 'cv2.TM_CCORR','cv2.TM_CCORR_NORMED', 'cv2.TM_SQDIFF', 'cv2.TM_SQDIFF_NORMED']\n",
    "show_img = np.copy(img)\n",
    "\n",
    "#Perform template matching with various methods (0~5)\n",
    "while True:\n",
    "    cv2.imshow('tm', show_img)\n",
    "    k = cv2.waitKey()\n",
    "    if k == 27:\n",
    "        break\n",
    "    elif k > 0 and chr(k).isdigit():\n",
    "        index = int(chr(k))\n",
    "        if 0 <= index < len(methods):\n",
    "            method = methods[index]\n",
    "            res = cv2.matchTemplate(img, template, eval(method))\n",
    "            print('min:{} max:{}'.format(np.min(res), np.max(res)))\n",
    "            res = cv2.normalize(res, None, 0, 1, cv2.NORM_MINMAX)            \n",
    "            print('min_n:{} max_n:{}'.format(np.min(res), np.max(res)))\n",
    "            #if index >= methods.index('cv2.TM_SQDIFF'):\n",
    "            #    loc = np.where(res < 0.2)\n",
    "            #else:\n",
    "            #    loc = np.where(res > 0.8)            \n",
    "            #for pt in zip(*loc[::-1]):\n",
    "            #    cv2.rectangle(res, (pt[0] - int(w/2), pt[1] - int(h/2)), (pt[0] + int(w/2), pt[1] + int(h/2)),(0, 0, 0), 1)\n",
    "            res_img = np.copy(res)\n",
    "            for y in range(0, res.shape[0]):\n",
    "                for x in range(0, res.shape[1]):\n",
    "                    if (index >= methods.index('cv2.TM_SQDIFF')) and (res[y,x] < 0.2):            \n",
    "                        cv2.rectangle(res_img, (x - int(w/2), y - int(h/2)), (x + int(w/2), y + int(h/2)),(0, 0, 0), 1)\n",
    "                    elif (index < methods.index('cv2.TM_SQDIFF')) and (res[y,x] > 0.8):            \n",
    "                        cv2.rectangle(res_img, (x - int(w/2), y - int(h/2)), (x + int(w/2), y + int(h/2)),(0, 0, 0), 1)\n",
    "                       \n",
    "            #print(res_img.shape)\n",
    "            res_img = cv2.resize(res_img, (width, height))*255\n",
    "            res_img = cv2.cvtColor(res_img, cv2.COLOR_GRAY2BGR).astype(np.uint8)\n",
    "            #print(res_img.shape)\n",
    "            cv2.putText(res_img, method, (0, 30), cv2.FONT_HERSHEY_SIMPLEX, 1, (0, 0, 255), 2)\n",
    "                \n",
    "            show_img = np.copy(img)\n",
    "            show_img = np.hstack((show_img, res_img))\n",
    "cv2.destroyAllWindows()"
   ]
  },
  {
   "cell_type": "markdown",
   "metadata": {},
   "source": [
    "###### %%writefile test\n",
    "## Practice\n",
    "1. Input images from video file WiiPlay.mp4 with frame number between 4820 and 5000 (i.e., level 15).\n",
    "2. Acquire a face template from the first frame (frame number = 4820).\n",
    "3. Use <i>cv2.matchTemplate()</i> to perform template matching on subsequent frames.\n",
    "4. Draw a blue rectangle around each good match and show the output images.\n",
    "5. (Optional) Use <i>cv2.minMaxLoc()</i> to find the best match and draw a red rectangle around the best match.\n",
    "6. Observe which method is better ('cv2.TM_CCOEFF', 'cv2.TM_CCOEFF_NORMED', 'cv2.TM_CCORR','cv2.TM_CCORR_NORMED', 'cv2.TM_SQDIFF', 'cv2.TM_SQDIFF_NORMED') \n",
    "7. Upload your Jupyter code file (*.ipynb)"
   ]
  },
  {
   "cell_type": "code",
   "execution_count": 10,
   "metadata": {},
   "outputs": [
    {
     "name": "stdout",
     "output_type": "stream",
     "text": [
      "5\n"
     ]
    }
   ],
   "source": [
    "print (int(5.8))"
   ]
  }
 ],
 "metadata": {
  "kernelspec": {
   "display_name": "Python 3 (ipykernel)",
   "language": "python",
   "name": "python3"
  },
  "language_info": {
   "codemirror_mode": {
    "name": "ipython",
    "version": 3
   },
   "file_extension": ".py",
   "mimetype": "text/x-python",
   "name": "python",
   "nbconvert_exporter": "python",
   "pygments_lexer": "ipython3",
   "version": "3.9.13"
  }
 },
 "nbformat": 4,
 "nbformat_minor": 4
}
