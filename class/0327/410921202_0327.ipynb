{
 "cells": [
  {
   "cell_type": "markdown",
   "id": "c08dc83d-9928-4c02-a86b-a35db46efb63",
   "metadata": {},
   "source": [
    "410921202 資工四 林芷萱 電腦視覺 0327 Practice"
   ]
  },
  {
   "cell_type": "markdown",
   "id": "28134f07",
   "metadata": {},
   "source": [
    "我的作法是根據老師作業要求中對(e)的描述來把他轉成code，但在我寫完將他印下來後發現我的img_e輸出有一個白色方形外框，我的解決方法是將img_e儲存到我的電腦裡，然後用小畫家打開img_e，以此看長方形外框四點的座標，再另外創建一個mask來幫助我去除白色方形外框的部分，具體作法如程式碼中所實作的，最後再將結果給印出來。"
   ]
  },
  {
   "cell_type": "code",
   "execution_count": 1,
   "id": "5bcbbd50-0295-4302-bdeb-781ab5ed53f9",
   "metadata": {
    "tags": []
   },
   "outputs": [],
   "source": [
    "import cv2\n",
    "import numpy as np\n",
    "\n",
    "img = cv2.imread('gear_tooth.png', cv2.IMREAD_GRAYSCALE)\n",
    "\n",
    "retval, img_a = cv2.threshold(img, 225, 255, cv2.THRESH_BINARY)\n",
    "\n",
    "kernel_dot = cv2.getStructuringElement(cv2.MORPH_ELLIPSE,(3,3))\n",
    "kernel_hole = cv2.getStructuringElement(cv2.MORPH_ELLIPSE,(30,30))\n",
    "kernel_hole_e = cv2.erode(kernel_hole, kernel_dot, iterations=1)\n",
    "kernel_hole_ring = kernel_hole - kernel_hole_e\n",
    "\n",
    "img_b = cv2.erode(img_a, kernel_hole_ring, iterations=1)\n",
    "img_c = cv2.dilate(img_b, kernel_hole, iterations=1)\n",
    "img_d = cv2.bitwise_or(img, img_c)\n",
    "\n",
    "cv2.imshow('(a)', img_a)\n",
    "cv2.imshow('(b)', img_b)\n",
    "cv2.imshow('(c)', img_c)\n",
    "cv2.imshow('(d)', img_d)\n",
    "\n",
    "gear_body = cv2.getStructuringElement(cv2.MORPH_ELLIPSE, (10,10))\n",
    "sampling_ring_spacer = cv2.getStructuringElement(cv2.MORPH_ELLIPSE, (2, 2))\n",
    "sampling_ring_width = cv2.getStructuringElement(cv2.MORPH_ELLIPSE, (5, 5))\n",
    "\n",
    "img_e_1 = cv2.morphologyEx(img_d, cv2.MORPH_OPEN, gear_body)\n",
    "img_e_2 = cv2.dilate(img_e_1, sampling_ring_spacer)\n",
    "img_e_3 = cv2.dilate(img_e_2, sampling_ring_width)\n",
    "\n",
    "img_e = img_e_3 - img_e_2\n",
    "\n",
    "# cv2.imwrite('img_e.jpg', img_e)\n",
    "\n",
    "# img_e輸出有一個白色外框長方形，去掉他\n",
    "# 長方形四點座標\n",
    "pt1 = (55, 35)\n",
    "pt2 = (55, 140)\n",
    "pt3 = (245, 35)\n",
    "pt4 = (245, 140)\n",
    "\n",
    "mask = np.zeros_like(img_e) # 創建一個跟img_e大小相同的全黑影像\n",
    "cv2.rectangle(mask, pt1, pt4, (255, 255, 255), -1) # 根據座標畫出長方形，座標內都是白色\n",
    "\n",
    "img_e_final = cv2.bitwise_and(img_e, mask) # 在img_e中只保留對應到mask的白色區域\n",
    "cv2.imshow('(e)', img_e_final)\n",
    "\n",
    "img_f = cv2.bitwise_and(img_d, img_e_final)\n",
    "cv2.imshow('(f)', img_f)\n",
    "\n",
    "cv2.waitKey(0)\n",
    "cv2.destroyAllWindows()\n"
   ]
  },
  {
   "cell_type": "code",
   "execution_count": null,
   "id": "4efd1f83",
   "metadata": {},
   "outputs": [],
   "source": []
  }
 ],
 "metadata": {
  "kernelspec": {
   "display_name": "Python 3 (ipykernel)",
   "language": "python",
   "name": "python3"
  },
  "language_info": {
   "codemirror_mode": {
    "name": "ipython",
    "version": 3
   },
   "file_extension": ".py",
   "mimetype": "text/x-python",
   "name": "python",
   "nbconvert_exporter": "python",
   "pygments_lexer": "ipython3",
   "version": "3.9.13"
  }
 },
 "nbformat": 4,
 "nbformat_minor": 5
}
