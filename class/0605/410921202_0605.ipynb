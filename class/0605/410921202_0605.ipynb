{
 "cells": [
  {
   "cell_type": "markdown",
   "id": "527d00f7-6ef8-41b7-874a-9e327dbc8026",
   "metadata": {},
   "source": [
    "410921202 資工四 林芷萱 0605 Practice"
   ]
  },
  {
   "cell_type": "code",
   "execution_count": 1,
   "id": "445a9c83-c535-4924-acbb-916bdd66caa7",
   "metadata": {},
   "outputs": [],
   "source": [
    "import cv2\n",
    "import mediapipe as mp\n",
    "\n",
    "mp_drawing = mp.solutions.drawing_utils\n",
    "mp_hands = mp.solutions.hands\n",
    "\n",
    "# 識別手勢\n",
    "def recognize_gesture(landmarks):\n",
    "    thumb_tip = landmarks[mp_hands.HandLandmark.THUMB_TIP].y # 拇指\n",
    "    index_tip = landmarks[mp_hands.HandLandmark.INDEX_FINGER_TIP].y #食指\n",
    "    middle_tip = landmarks[mp_hands.HandLandmark.MIDDLE_FINGER_TIP].y # 中指\n",
    "    ring_tip = landmarks[mp_hands.HandLandmark.RING_FINGER_TIP].y # 無名指\n",
    "    pinky_tip = landmarks[mp_hands.HandLandmark.PINKY_TIP].y # 小指\n",
    "\n",
    "    # 石頭:拇指比食指、中指、無名指、小指都低\n",
    "    if thumb_tip < index_tip and thumb_tip < middle_tip and thumb_tip < ring_tip and thumb_tip < pinky_tip:\n",
    "        return \"Rock\"\n",
    "    # 布:拇指比食指、中指、無名指、小指都高\n",
    "    elif thumb_tip > index_tip and thumb_tip > middle_tip and thumb_tip > ring_tip and thumb_tip > pinky_tip:\n",
    "        return \"Paper\"\n",
    "    # 剪刀:食指、中指高於拇指、無名指、小指\n",
    "    elif index_tip < thumb_tip and middle_tip < thumb_tip and index_tip < ring_tip and index_tip < pinky_tip and middle_tip < ring_tip and middle_tip < pinky_tip:\n",
    "        return \"Scissor\"\n",
    "    # 其他\n",
    "    else:\n",
    "        return \"Unknown\"\n",
    "\n",
    "cap = cv2.VideoCapture(0)\n",
    "frameWidth = cap.get(cv2.CAP_PROP_FRAME_WIDTH)\n",
    "frameHeight = cap.get(cv2.CAP_PROP_FRAME_HEIGHT)\n",
    "\n",
    "# confidence要大於0.7\n",
    "with mp_hands.Hands(\n",
    "    min_detection_confidence=0.7,\n",
    "    min_tracking_confidence=0.7) as hands:\n",
    "\n",
    "    while cap.isOpened():\n",
    "        success, image = cap.read()\n",
    "        if not success:\n",
    "            print(\"Ignoring empty camera frame.\")\n",
    "            continue\n",
    "\n",
    "        # Flip the image horizontally for a later selfie-view display, and convert\n",
    "        # the BGR image to RGB.\n",
    "        image = cv2.cvtColor(cv2.flip(image, 1), cv2.COLOR_BGR2RGB)\n",
    "        # To improve performance, optionally mark the image as not writeable to\n",
    "        # pass by reference.\n",
    "        image.flags.writeable = False\n",
    "        results = hands.process(image)\n",
    "\n",
    "        # 使用mp_drawing.draw_landmarks來畫手landmark\n",
    "        # 使用recognize_gesture函數來識別手勢\n",
    "        image.flags.writeable = True\n",
    "        image = cv2.cvtColor(image, cv2.COLOR_RGB2BGR)\n",
    "        gesture = \"None\" # 初始是None\n",
    "        if results.multi_hand_landmarks:\n",
    "            for hand_landmarks in results.multi_hand_landmarks:\n",
    "                mp_drawing.draw_landmarks(\n",
    "                    image, hand_landmarks, mp_hands.HAND_CONNECTIONS)\n",
    "                gesture = recognize_gesture(hand_landmarks.landmark)\n",
    "                \n",
    "        cv2.putText(image, f'{gesture}', (10, 30), cv2.FONT_HERSHEY_SIMPLEX, 1, (255, 0, 0), 2, cv2.LINE_AA)\n",
    "        cv2.imshow('MediaPipe Hands', image)\n",
    "        \n",
    "        if cv2.waitKey(1) & 0xFF == 27:\n",
    "            break\n",
    "\n",
    "cap.release()\n",
    "cv2.destroyAllWindows()\n"
   ]
  },
  {
   "cell_type": "code",
   "execution_count": null,
   "id": "0bc08969-0baf-4ca3-ae41-0f9903936ab3",
   "metadata": {},
   "outputs": [],
   "source": []
  }
 ],
 "metadata": {
  "kernelspec": {
   "display_name": "Computer_Vision",
   "language": "python",
   "name": "computer_vision"
  },
  "language_info": {
   "codemirror_mode": {
    "name": "ipython",
    "version": 3
   },
   "file_extension": ".py",
   "mimetype": "text/x-python",
   "name": "python",
   "nbconvert_exporter": "python",
   "pygments_lexer": "ipython3",
   "version": "3.7.16"
  }
 },
 "nbformat": 4,
 "nbformat_minor": 5
}
