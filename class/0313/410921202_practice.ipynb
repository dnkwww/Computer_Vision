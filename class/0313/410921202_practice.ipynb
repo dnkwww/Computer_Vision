{
 "cells": [
  {
   "cell_type": "code",
   "execution_count": 1,
   "id": "858adda9",
   "metadata": {},
   "outputs": [],
   "source": [
    "import cv2\n",
    "\n",
    "cap = cv2.VideoCapture(0)\n",
    "\n",
    "# Check if the webcam is opened correctly\n",
    "if not cap.isOpened():\n",
    "    raise IOError(\"Cannot open webcam\")\n",
    "\n",
    "# Initialize variables for background subtraction\n",
    "background_captured = False\n",
    "background_image = None\n",
    "\n",
    "while True:\n",
    "    ret, frame = cap.read()\n",
    "    frame = cv2.resize(frame, None, fx=0.5, fy=0.5, interpolation=cv2.INTER_AREA)\n",
    "    \n",
    "    # temporal subtraction\n",
    "    if background_captured:\n",
    "        temporal_subtraction = cv2.absdiff(frame, prev_frame)\n",
    "        cv2.imshow('Temporal Subtraction', temporal_subtraction)\n",
    "        \n",
    "    # background subtraction\n",
    "    if not background_captured:\n",
    "        background_image = frame.copy()\n",
    "        background_captured = True\n",
    "    background_subtraction = cv2.absdiff(frame, background_image)\n",
    "    cv2.imshow('Background Subtraction', background_subtraction)\n",
    "    \n",
    "    # background image\n",
    "    cv2.imshow('Background Image', background_image)\n",
    "    \n",
    "    prev_frame = frame.copy()\n",
    "\n",
    "    c = cv2.waitKey(1)\n",
    "    if c == 27:\n",
    "        break\n",
    "\n",
    "cap.release()\n",
    "cv2.destroyAllWindows()\n"
   ]
  },
  {
   "cell_type": "markdown",
   "id": "308efc06",
   "metadata": {},
   "source": [
    "4.Compare the differences. What is the pros and cons of these two methods?\n",
    "\n",
    "### temporal subtraction\n",
    "優點:即時性\n",
    "缺點:不穩定，它對相機移動、光線變化等因素非常敏感，可能會導致偽影或誤檢測。\n",
    "\n",
    "### background subtraction\n",
    "優點:穩定性較好，它將捕獲到的第一幀作為背景圖像，因此對於穩定的背景較不敏感，可以減少偽影的產生。\n",
    "缺點:不即時性"
   ]
  },
  {
   "cell_type": "code",
   "execution_count": null,
   "id": "a2282f6c",
   "metadata": {},
   "outputs": [],
   "source": []
  }
 ],
 "metadata": {
  "kernelspec": {
   "display_name": "Python 3 (ipykernel)",
   "language": "python",
   "name": "python3"
  },
  "language_info": {
   "codemirror_mode": {
    "name": "ipython",
    "version": 3
   },
   "file_extension": ".py",
   "mimetype": "text/x-python",
   "name": "python",
   "nbconvert_exporter": "python",
   "pygments_lexer": "ipython3",
   "version": "3.9.13"
  }
 },
 "nbformat": 4,
 "nbformat_minor": 5
}
