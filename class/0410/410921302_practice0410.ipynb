{
 "cells": [
  {
   "cell_type": "markdown",
   "id": "8503768c-41e3-4ead-be3c-8cf330e3558e",
   "metadata": {},
   "source": [
    "## practice 0410"
   ]
  },
  {
   "cell_type": "code",
   "execution_count": 84,
   "id": "10d7e68c-80cc-4246-9df1-fbf39ecfbed4",
   "metadata": {},
   "outputs": [],
   "source": [
    "#read video file (specific frames)\n",
    "\n",
    "import cv2\n",
    "import numpy as np\n",
    "\n",
    "def nothing(x):\n",
    "    pass\n",
    "  \n",
    "cap = cv2.VideoCapture('WiiPlay.mp4')\n",
    "# Check if the video file is opened correctly\n",
    "if not cap.isOpened():\n",
    "    raise IOError(\"Cannot open the video file\")\n",
    "    \n",
    "#BE CAREFUL! Each video has different time length and frame rate. \n",
    "#So make sure that you have the right parameters for the right video!\n",
    "#time_length = 1481.0\n",
    "#fps=30\n",
    "frame_seq = 420\n",
    "stop_frame_seq = 25*30\n",
    "\n",
    "#The first argument flag CAP_PROP_POS_FRAMES is a 0-based index of the frame to be decoded/captured next.\n",
    "#The second argument defines the frame number in range from 0 to (time_length*fps - 1).\n",
    "cap.set(cv2.CAP_PROP_POS_FRAMES , frame_seq);\n",
    "\n",
    "ret, frame = cap.read()\n",
    "cur_frame = cv2.resize(frame, None, fx=0.5, fy=0.5, interpolation=cv2.INTER_AREA)\n",
    "\n",
    "# Build a trackbar window\n",
    "cv2.namedWindow('HSV Hue')\n",
    "cv2.createTrackbar('Low Hue', 'HSV Hue', 110, 179, nothing)\n",
    "cv2.createTrackbar('High Hue', 'HSV Hue', 125, 179, nothing)\n",
    "\n",
    "while True:\n",
    "    ret, frame = cap.read()\n",
    "    if ret == False:\n",
    "        break\n",
    "    cur_frame = cv2.resize(frame, None, fx=0.5, fy=0.5, interpolation=cv2.INTER_AREA)   \n",
    "    cv2.imshow('downsampling', cur_frame)\n",
    "\n",
    "    # Get trackbarPos and change to HSV which uses to get the range of the blue cursor\n",
    "    img_hsv = cv2.cvtColor(cur_frame, cv2.COLOR_BGR2HSV)\n",
    "    low_hue = cv2.getTrackbarPos('Low Hue', 'HSV Hue')\n",
    "    high_hue = cv2.getTrackbarPos('High Hue', 'HSV Hue')\n",
    "    mask = cv2.inRange(img_hsv, np.array([low_hue, 50, 110]), np.array([high_hue, 255, 255]))\n",
    "    #cv2.imshow('Hue', mask)\n",
    "\n",
    "    # Find the contours of the cursor and draw it\n",
    "    contours, hierarchy = cv2.findContours(mask, cv2.RETR_EXTERNAL, cv2.CHAIN_APPROX_SIMPLE)\n",
    "    cv2.drawContours(cur_frame, contours, -1, (0, 0, 255), 4)\n",
    "    cv2.imshow('drawing', cur_frame)\n",
    "\n",
    "    # Break when Level2 end or push esc\n",
    "    if cap.get(cv2.CAP_PROP_POS_FRAMES) == stop_frame_seq:\n",
    "        break\n",
    "    c = cv2.waitKey(1)\n",
    "    if c == 27:\n",
    "        break\n",
    "cap.release()\n",
    "cv2.destroyAllWindows()"
   ]
  },
  {
   "cell_type": "markdown",
   "id": "11defac9-049d-4e64-b9d6-7220ca4920c2",
   "metadata": {},
   "source": [
    "## About this practice\n",
    "#### The last two digits of my student id is 02, so I need to present by Level 2.\n",
    "1. The best high and low threshold to detect the blue cursor.\n",
    "   ##### -> In my program, I found that threshold between 110 to 125 can get a clear blue cursor.\n",
    "   ##### However, I also adjust the value of HSV that the threshold change to between 110 to 255. So that the people's eyes and glasses wouldn't detected.\n"
   ]
  }
 ],
 "metadata": {
  "kernelspec": {
   "display_name": "cv_python3",
   "language": "python",
   "name": "cv_python3"
  },
  "language_info": {
   "codemirror_mode": {
    "name": "ipython",
    "version": 3
   },
   "file_extension": ".py",
   "mimetype": "text/x-python",
   "name": "python",
   "nbconvert_exporter": "python",
   "pygments_lexer": "ipython3",
   "version": "3.12.2"
  },
  "widgets": {
   "application/vnd.jupyter.widget-state+json": {
    "state": {},
    "version_major": 2,
    "version_minor": 0
   }
  }
 },
 "nbformat": 4,
 "nbformat_minor": 5
}
