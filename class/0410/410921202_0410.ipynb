{
 "cells": [
  {
   "cell_type": "markdown",
   "id": "47aefa00",
   "metadata": {},
   "source": [
    "410921202 資工四 林芷萱 電腦視覺 0327 Practice"
   ]
  },
  {
   "cell_type": "markdown",
   "id": "e4a93565",
   "metadata": {},
   "source": [
    "###### %%writefile test\n",
    "## Practice (double thresholding)\n",
    "1. Input images from video file WiiPlay.mp4 with the same level number as the last two digits of your student id.\n",
    "2. Convert the image from BGR to HSV.\n",
    "3. Use <i>cv2.createTrackbar()</i> to create two trackbars.\n",
    "3. Use <i>cv2.getTrackbarPos()</i> to get the current value of each trackbar.\n",
    "4. Use <i>cv2.inRange()</i> to perform double thresholding based on the Hue channel (find out pixels with Hue value between current values of two trackbars).\n",
    "5. Find the best high and low threshold to detect the blue cursor.\n",
    "6. Show the output images.\n",
    "7. Upload your Jupyter code file (*.ipynb)"
   ]
  },
  {
   "cell_type": "code",
   "execution_count": 2,
   "id": "730fe975",
   "metadata": {},
   "outputs": [],
   "source": [
    "import cv2\n",
    "import numpy as np\n",
    "\n",
    "# 定義一個空的函數fn，用作trackbar的回調函數，即當trackbar的值更改時將被調用\n",
    "def fn(x):\n",
    "    pass\n",
    "\n",
    "cap = cv2.VideoCapture('WiiPlay.mp4')\n",
    "if not cap.isOpened():\n",
    "    raise IOError(\"Cannot open the video file\")\n",
    "\n",
    "# 設定起始&結束幀\n",
    "frame_seq = 14*30\n",
    "stop_frame_seq = 25*30\n",
    "\n",
    "cap.set(cv2.CAP_PROP_POS_FRAMES , frame_seq)\n",
    "\n",
    "ret, frame = cap.read()\n",
    "cur_frame = cv2.resize(frame, None, fx=0.5, fy=0.5, interpolation=cv2.INTER_AREA)\n",
    "\n",
    "# 創建Window和trackbar\n",
    "cv2.namedWindow('HSV')\n",
    "cv2.createTrackbar('Low Hue', 'HSV', 100, 170, fn)\n",
    "cv2.createTrackbar('High Hue', 'HSV', 150, 170, fn)\n",
    "\n",
    "while True:\n",
    "    ret, frame = cap.read()\n",
    "    if ret == False:\n",
    "        break\n",
    "    \n",
    "    cur_frame = cv2.resize(frame, None, fx=0.5, fy=0.5, interpolation=cv2.INTER_AREA)   \n",
    "    cv2.imshow('original', cur_frame)\n",
    "    \n",
    "    # BGR -> HSV\n",
    "    hsv_frame = cv2.cvtColor(cur_frame, cv2.COLOR_BGR2HSV)\n",
    "    \n",
    "    # 獲取trackbar'Low Hue'和'High Hue'的當前值\n",
    "    low_hue = cv2.getTrackbarPos('Low Hue', 'HSV')\n",
    "    high_hue = cv2.getTrackbarPos('High Hue', 'HSV')\n",
    "    \n",
    "    # 根據Hue值的範圍對當前幀進行色彩篩選\n",
    "    lower_blue = np.array([low_hue, 20, 120])\n",
    "    upper_blue = np.array([high_hue, 255, 255])\n",
    "    mask = cv2.inRange(hsv_frame, lower_blue, upper_blue)\n",
    "#     cv2.imshow('mask', mask)\n",
    "    \n",
    "    # 將篩選結果可視化並轉換成明顯的顏色\n",
    "    mask_colored = cv2.cvtColor(mask, cv2.COLOR_GRAY2BGR)\n",
    "    mask_colored[np.where((mask_colored == [255, 255, 255]).all(axis=2))] = [0, 0, 255]  # mask是白色的，轉成紅色\n",
    "    \n",
    "    # 合併原始幀和篩選結果\n",
    "    combined = cv2.bitwise_or(cur_frame, mask_colored)\n",
    "    cv2.imshow('HSV', combined)\n",
    "    \n",
    "    if cap.get(cv2.CAP_PROP_POS_FRAMES) == stop_frame_seq:\n",
    "        break\n",
    "        \n",
    "    c = cv2.waitKey(1)\n",
    "    if c == 27:\n",
    "        break\n",
    "        \n",
    "cap.release()\n",
    "cv2.destroyAllWindows()"
   ]
  },
  {
   "cell_type": "code",
   "execution_count": null,
   "id": "a6b3776c",
   "metadata": {},
   "outputs": [],
   "source": []
  }
 ],
 "metadata": {
  "kernelspec": {
   "display_name": "Python 3 (ipykernel)",
   "language": "python",
   "name": "python3"
  },
  "language_info": {
   "codemirror_mode": {
    "name": "ipython",
    "version": 3
   },
   "file_extension": ".py",
   "mimetype": "text/x-python",
   "name": "python",
   "nbconvert_exporter": "python",
   "pygments_lexer": "ipython3",
   "version": "3.9.13"
  }
 },
 "nbformat": 4,
 "nbformat_minor": 5
}
