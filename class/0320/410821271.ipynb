{
 "cells": [
  {
   "cell_type": "code",
   "execution_count": 6,
   "id": "f688ca13-c2a3-4664-a3b2-9981a1dc3ee7",
   "metadata": {},
   "outputs": [
    {
     "name": "stdout",
     "output_type": "stream",
     "text": [
      "[[  0.3993994   0.        300.       ]\n",
      " [  0.          0.4005994 300.       ]\n",
      " [ -0.         -0.          1.       ]]\n"
     ]
    }
   ],
   "source": [
    "import cv2\n",
    "import numpy as np\n",
    "img = cv2.imread('tile_texture8.jpg')\n",
    "img2 = cv2.imread('tile_texture4.jpg')\n",
    "img2 = cv2.resize(img2, (img.shape[1], img.shape[0]))\n",
    "rows, cols = img.shape[:2]\n",
    "rows2, cols2 = img2.shape[:2]\n",
    "\n",
    "src_points = np.float32([[0,0], [cols-1,0], [0,rows-1], [cols-1,rows-1]])\n",
    "dst_points = np.float32([[int(0.3*cols),int(0.3*rows)], [cols-1-int(0.3*cols),int(0.3*rows)], [int(0.3*cols),rows-1-int(0.3*rows)], [cols-1-int(0.3*cols),rows-1-int(0.3*rows)]])\n",
    "#cv2.findHomography() can accept more than 4 pairs of corresponding points\n",
    "dst_point2 = np.float32([[0,0], [int(0.3*cols2),int(0.3*rows2)], [0,rows2-1], [int(0.3*cols2),rows2-1-int(0.3*rows2)]])\n",
    "dst_point3 = np.float32([[0,0], [cols2-1,0], [int(0.3*cols2),int(0.3*rows2)], [cols2-1-int(0.3*cols2),int(0.3*rows2)]])\n",
    "dst_point4 = np.float32([[cols2-1-int(0.3*cols2),int(0.3*rows2)], [cols2-1,0], [cols2-1-int(0.3*cols2),rows2-1-int(0.3*rows2)], [cols2-1,rows2-1]])\n",
    "dst_point5 = np.float32([[int(0.3*cols2),rows2-1-int(0.3*rows2)], [cols2-1-int(0.3*cols2),rows2-1-int(0.3*rows2)], [0,rows2-1], [cols2-1,rows2-1]])\n",
    "\n",
    "projective_matrix = cv2.getPerspectiveTransform(src_points, dst_points)\n",
    "projective_matrix2 = cv2.getPerspectiveTransform(src_points, dst_point2)\n",
    "projective_matrix3 = cv2.getPerspectiveTransform(src_points, dst_point3)\n",
    "projective_matrix4 = cv2.getPerspectiveTransform(src_points, dst_point4)\n",
    "projective_matrix5 = cv2.getPerspectiveTransform(src_points, dst_point5)\n",
    "\n",
    "print(projective_matrix)\n",
    "img_output = cv2.warpPerspective(img, projective_matrix, (cols,rows), cv2.INTER_AREA, cv2.BORDER_CONSTANT, 0)\n",
    "img_output2 = cv2.warpPerspective(img2, projective_matrix2, (cols,rows), cv2.INTER_AREA, cv2.BORDER_CONSTANT, 0)\n",
    "img_output3 = cv2.warpPerspective(img2, projective_matrix3, (cols,rows), cv2.INTER_AREA, cv2.BORDER_CONSTANT, 0)\n",
    "img_output4 = cv2.warpPerspective(img2, projective_matrix4, (cols,rows), cv2.INTER_AREA, cv2.BORDER_CONSTANT, 0)\n",
    "img_output5 = cv2.warpPerspective(img2, projective_matrix5, (cols,rows), cv2.INTER_AREA, cv2.BORDER_CONSTANT, 0)\n",
    "\n",
    "img_final = cv2.add(img_output,img_output2)\n",
    "img_final = cv2.add(img_final,img_output3)\n",
    "img_final = cv2.add(img_final,img_output4)\n",
    "img_final = cv2.add(img_final,img_output5)\n",
    "\n",
    "cv2.imshow('Scaled', img_final)\n",
    "#img_scaled = cv2.resize(img_output,(1920, 1080), interpolation = cv2.INTER_AREA)\n",
    "#cv2.imshow('Scaled', img_scaled)\n",
    "#cv2.imshow('Input', img)\n",
    "#cv2.imshow('Output', img_output)\n",
    "#cv2.imshow('Output2', img_output2)\n",
    "#cv2.imshow('Output3', img_output3)\n",
    "#cv2.imshow('Output4', img_output4)\n",
    "#cv2.imshow('Output5', img_output5)\n",
    "#ret,mask = cv2.threshold(img_output,1,255,cv2.THRESH_BINARY)\n",
    "#cv2.imshow('Mask', mask)\n",
    "cv2.waitKey()\n",
    "cv2.destroyAllWindows()"
   ]
  },
  {
   "cell_type": "code",
   "execution_count": null,
   "id": "6cf347db-3a17-4490-b6fe-e64e5de599b7",
   "metadata": {},
   "outputs": [],
   "source": []
  }
 ],
 "metadata": {
  "kernelspec": {
   "display_name": "Python 3 (ipykernel)",
   "language": "python",
   "name": "python3"
  },
  "language_info": {
   "codemirror_mode": {
    "name": "ipython",
    "version": 3
   },
   "file_extension": ".py",
   "mimetype": "text/x-python",
   "name": "python",
   "nbconvert_exporter": "python",
   "pygments_lexer": "ipython3",
   "version": "3.9.13"
  }
 },
 "nbformat": 4,
 "nbformat_minor": 5
}
