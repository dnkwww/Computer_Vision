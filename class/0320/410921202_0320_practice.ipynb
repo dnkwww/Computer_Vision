{
 "cells": [
  {
   "cell_type": "code",
   "execution_count": 1,
   "id": "d01a856d",
   "metadata": {},
   "outputs": [],
   "source": [
    "import cv2\n",
    "import numpy as np\n",
    "\n",
    "img = cv2.imread('tile_texture7.jpg')\n",
    "img2 = cv2.imread('tile_texture9.jpg')\n",
    "img2 = cv2.resize(img2, (img.shape[1], img.shape[0]))\n",
    "rows, cols = img.shape[:2]\n",
    "\n",
    "src_points = np.float32([[0,0], [cols-1,0], [0,rows-1], [cols-1,rows-1]])\n",
    "dst_points = [\n",
    "    np.float32([[int(0.3*cols),int(0.3*rows)], [cols-1-int(0.3*cols),int(0.3*rows)], [int(0.3*cols),rows-1-int(0.3*rows)], [cols-1-int(0.3*cols),rows-1-int(0.3*rows)]]), \n",
    "    np.float32([[0,0], [int(0.3*cols),int(0.3*rows)], [0,rows-1], [int(0.3*cols),rows-1-int(0.3*rows)]]),\n",
    "    np.float32([[0,0], [cols-1,0], [int(0.3*cols),int(0.3*rows)], [cols-1-int(0.3*cols),int(0.3*rows)]]),\n",
    "    np.float32([[cols-1-int(0.3*cols),int(0.3*rows)], [cols-1,0], [cols-1-int(0.3*cols),rows-1-int(0.3*rows)], [cols-1,rows-1]]),\n",
    "    np.float32([[int(0.3*cols),rows-1-int(0.3*rows)], [cols-1-int(0.3*cols),rows-1-int(0.3*rows)], [0,rows-1], [cols-1,rows-1]])\n",
    "]\n",
    "\n",
    "projective_matrix = [cv2.getPerspectiveTransform(src_points, dst) for dst in dst_points]\n",
    "\n",
    "img_output = cv2.warpPerspective(img, projective_matrix[0], (cols,rows), cv2.INTER_AREA, cv2.BORDER_CONSTANT, 0)\n",
    "img_outputs = [cv2.warpPerspective(img2, matrix, (cols,rows), cv2.INTER_AREA, cv2.BORDER_CONSTANT, 0) for matrix in projective_matrix[1:]]\n",
    "\n",
    "img_add = cv2.add(img_output ,sum(img_outputs))\n",
    "\n",
    "cv2.imshow('0320', img_add)\n",
    "\n",
    "cv2.waitKey()\n",
    "cv2.destroyAllWindows()"
   ]
  },
  {
   "cell_type": "code",
   "execution_count": null,
   "id": "6c526ffb",
   "metadata": {},
   "outputs": [],
   "source": []
  }
 ],
 "metadata": {
  "kernelspec": {
   "display_name": "Python 3 (ipykernel)",
   "language": "python",
   "name": "python3"
  },
  "language_info": {
   "codemirror_mode": {
    "name": "ipython",
    "version": 3
   },
   "file_extension": ".py",
   "mimetype": "text/x-python",
   "name": "python",
   "nbconvert_exporter": "python",
   "pygments_lexer": "ipython3",
   "version": "3.9.13"
  }
 },
 "nbformat": 4,
 "nbformat_minor": 5
}
