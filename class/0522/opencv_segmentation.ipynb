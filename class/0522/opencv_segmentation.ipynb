{
 "cells": [
  {
   "cell_type": "code",
   "execution_count": 1,
   "id": "0d4f605d",
   "metadata": {},
   "outputs": [
    {
     "name": "stderr",
     "output_type": "stream",
     "text": [
      "D:\\anaconda3\\envs\\Computer_Vision\\lib\\site-packages\\tqdm\\auto.py:21: TqdmWarning: IProgress not found. Please update jupyter and ipywidgets. See https://ipywidgets.readthedocs.io/en/stable/user_install.html\n",
      "  from .autonotebook import tqdm as notebook_tqdm\n",
      "\n",
      "Downloading https://ultralytics.com/images/bus.jpg to 'bus.jpg'...\n",
      "100%|███████████████████████████████████████████████████████████████████████████████| 476k/476k [00:00<00:00, 1.27MB/s]\n",
      "image 1/1 D:\\Computer_Vision\\class\\0522\\bus.jpg: 640x480 4 persons, 1 bus, 1 skateboard, 778.1ms\n",
      "Speed: 47.9ms preprocess, 778.1ms inference, 100.2ms postprocess per image at shape (1, 3, 640, 480)\n",
      "Results saved to \u001b[1mruns\\segment\\predict\u001b[0m\n"
     ]
    }
   ],
   "source": [
    "#YOLOv8 Segmentation\n",
    "#pip install ultralytics\n",
    "\n",
    "from ultralytics import YOLO\n",
    "\n",
    "# Load a model\n",
    "model = YOLO('yolov8n-seg.pt')  # load an official model\n",
    "#model = YOLO('path/to/best.pt')  # load a custom model\n",
    "\n",
    "# Predict with the model\n",
    "results = model('https://ultralytics.com/images/bus.jpg', save=True)  # predict on an image"
   ]
  },
  {
   "cell_type": "code",
   "execution_count": 2,
   "id": "f07f32cd",
   "metadata": {},
   "outputs": [
    {
     "name": "stderr",
     "output_type": "stream",
     "text": [
      "\n",
      "Found https://ultralytics.com/images/bus.jpg locally at bus.jpg\n",
      "image 1/1 D:\\Computer_Vision\\class\\0522\\bus.jpg: 640x480 4 persons, 1 bus, 1 skateboard, 528.6ms\n",
      "Speed: 9.0ms preprocess, 528.6ms inference, 18.7ms postprocess per image at shape (1, 3, 640, 480)\n",
      "Results saved to \u001b[1mruns\\segment\\predict2\u001b[0m\n"
     ]
    },
    {
     "name": "stdout",
     "output_type": "stream",
     "text": [
      "1080 810\n",
      "mask 0\n",
      "mask 1\n",
      "mask 2\n",
      "mask 3\n",
      "mask 4\n",
      "mask 5\n"
     ]
    }
   ],
   "source": [
    "#YOLOv8 Segmentation\n",
    "#pip install ultralytics\n",
    "\n",
    "from ultralytics import YOLO\n",
    "import cv2\n",
    "import numpy as np\n",
    "\n",
    "model = YOLO('yolov8n-seg.pt')\n",
    "# BGR to RGB conversion is performed under the hood\n",
    "# see: https://github.com/ultralytics/ultralytics/issues/2575\n",
    "results = model.predict('https://ultralytics.com/images/bus.jpg', save=True)\n",
    "\n",
    "# Extract bounding boxes, classes, object names, confidence scores, and mask\n",
    "boxes = results[0].boxes.xyxy.tolist()\n",
    "classes = results[0].boxes.cls.tolist()\n",
    "confidences = results[0].boxes.conf.tolist()\n",
    "masks = results[0].masks\n",
    "\n",
    "names = results[0].names\n",
    "h, w = results[0].orig_shape\n",
    "print(h, w)\n",
    "\n",
    "# Iterate through each detected object's box, class, confidence, and mask\n",
    "for i, tup in enumerate(zip(boxes, classes, confidences, masks)):      \n",
    "    box, cls, conf, mask = tup\n",
    "    print(f\"mask {i}\")\n",
    "    #print(mask.xy[0])\n",
    "    image = np.zeros((h, w, 3), dtype=np.uint8)\n",
    "    \n",
    "    for point in mask.xy[0]:\n",
    "        cv2.circle(image, (int(point[0]), int(point[1])), radius=2, color=(0, 128, 0), thickness=-1)\n",
    "    \n",
    "    cv2.imshow('YOLOv8 Segmentation:'+str(i), image)\n",
    "    \n",
    "cv2.waitKey()\n",
    "cv2.destroyAllWindows()"
   ]
  },
  {
   "cell_type": "markdown",
   "id": "8b1c2f62",
   "metadata": {},
   "source": [
    "## Practice : Object Segmentation\n",
    "1. Input an image from 'https://ultralytics.com/images/bus.jpg'.\n",
    "2. Use YOLOv8 to perform segmentation.\n",
    "3. For each segment, open a window to show the contour.\n",
    "4. For each segment, fill out the segment contour.(hint:<i>cv2.fillPoly()</i>)\n",
    "5. For each segment, count number of pixels inside each segment, print it out on the upper-left corner.\n",
    "6. Show all the segment window.\n",
    "7. Upload your Jupyter code file (*.ipynb)"
   ]
  }
 ],
 "metadata": {
  "kernelspec": {
   "display_name": "Computer_Vision",
   "language": "python",
   "name": "computer_vision"
  },
  "language_info": {
   "codemirror_mode": {
    "name": "ipython",
    "version": 3
   },
   "file_extension": ".py",
   "mimetype": "text/x-python",
   "name": "python",
   "nbconvert_exporter": "python",
   "pygments_lexer": "ipython3",
   "version": "3.7.16"
  }
 },
 "nbformat": 4,
 "nbformat_minor": 5
}
