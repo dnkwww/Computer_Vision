{
 "cells": [
  {
   "cell_type": "markdown",
   "id": "ceecb674-b94f-4613-b82d-bebe0bf86427",
   "metadata": {},
   "source": [
    "410921202 0522 Practice"
   ]
  },
  {
   "cell_type": "code",
   "execution_count": 2,
   "id": "5488e163-3244-4583-bfa6-65c3def6a83d",
   "metadata": {},
   "outputs": [
    {
     "name": "stderr",
     "output_type": "stream",
     "text": [
      "\n",
      "Found https://ultralytics.com/images/bus.jpg locally at bus.jpg\n",
      "image 1/1 D:\\Computer_Vision\\class\\0522\\bus.jpg: 640x480 4 persons, 1 bus, 1 skateboard, 516.2ms\n",
      "Speed: 7.0ms preprocess, 516.2ms inference, 24.9ms postprocess per image at shape (1, 3, 640, 480)\n",
      "Results saved to \u001b[1mruns\\segment\\predict4\u001b[0m\n"
     ]
    },
    {
     "name": "stdout",
     "output_type": "stream",
     "text": [
      "Processing mask 0\n",
      "Processing mask 1\n",
      "Processing mask 2\n",
      "Processing mask 3\n",
      "Processing mask 4\n",
      "Processing mask 5\n"
     ]
    }
   ],
   "source": [
    "from ultralytics import YOLO\n",
    "import cv2\n",
    "import numpy as np\n",
    "from matplotlib import pyplot as plt\n",
    "\n",
    "model = YOLO('yolov8n-seg.pt')\n",
    "\n",
    "results = model.predict('https://ultralytics.com/images/bus.jpg', save=True)\n",
    "\n",
    "# Extract bounding boxes, classes, object names, confidence scores, and masks\n",
    "boxes = results[0].boxes.xyxy.tolist()\n",
    "classes = results[0].boxes.cls.tolist()\n",
    "confidences = results[0].boxes.conf.tolist()\n",
    "masks = results[0].masks\n",
    "\n",
    "# 圖片原始大小\n",
    "h, w = results[0].orig_shape\n",
    "# print(h, w)\n",
    "\n",
    "# Iterate through each detected object's box, class, confidence, and mask\n",
    "for i, (box, cls, conf, mask) in enumerate(zip(boxes, classes, confidences, masks)):      \n",
    "    print(f\"mask {i}\")\n",
    "    # 給每個segment建一個空的window\n",
    "    image = np.zeros((h, w, 3), dtype=np.uint8)\n",
    "    \n",
    "    # 使用fillPoly在image上繪製多邊形的圖像\n",
    "    cv2.fillPoly(image, [np.array(mask.xy[0], dtype=np.int32)], color=(0, 128, 0))\n",
    "\n",
    "    # 計算pixel數量\n",
    "    mask_image = np.zeros((h, w), dtype=np.uint8)\n",
    "    # 把mask_image填充為白色(255)，其餘是黑色(0)\n",
    "    cv2.fillPoly(mask_image, [np.array(mask.xy[0], dtype=np.int32)], color=255)\n",
    "    pixel_count = cv2.countNonZero(mask_image) # 計算非零像素的數量(即白色)\n",
    " \n",
    "    # 把計算出的pixel數量印在左上角\n",
    "    cv2.putText(image, f'Pixels: {pixel_count}', (10, 30), cv2.FONT_HERSHEY_SIMPLEX, 1, (255, 255, 255), 2, cv2.LINE_AA)\n",
    "    \n",
    "    window_name = f'YOLOv8 Segmentation: {i}'\n",
    "    cv2.imshow(window_name, image)\n",
    "\n",
    "cv2.waitKey(0)\n",
    "cv2.destroyAllWindows()\n"
   ]
  },
  {
   "cell_type": "code",
   "execution_count": null,
   "id": "232f2c36-d035-4731-9bfa-22e89301bd38",
   "metadata": {},
   "outputs": [],
   "source": []
  }
 ],
 "metadata": {
  "kernelspec": {
   "display_name": "Computer_Vision",
   "language": "python",
   "name": "computer_vision"
  },
  "language_info": {
   "codemirror_mode": {
    "name": "ipython",
    "version": 3
   },
   "file_extension": ".py",
   "mimetype": "text/x-python",
   "name": "python",
   "nbconvert_exporter": "python",
   "pygments_lexer": "ipython3",
   "version": "3.7.16"
  }
 },
 "nbformat": 4,
 "nbformat_minor": 5
}
