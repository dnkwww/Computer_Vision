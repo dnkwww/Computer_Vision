{
 "cells": [
  {
   "cell_type": "code",
   "execution_count": 1,
   "id": "8b9918ac-6cb6-4d09-948a-b555c2440b05",
   "metadata": {},
   "outputs": [
    {
     "name": "stderr",
     "output_type": "stream",
     "text": [
      "D:\\anaconda3\\envs\\Computer_Vision\\lib\\site-packages\\tqdm\\auto.py:21: TqdmWarning: IProgress not found. Please update jupyter and ipywidgets. See https://ipywidgets.readthedocs.io/en/stable/user_install.html\n",
      "  from .autonotebook import tqdm as notebook_tqdm\n"
     ]
    }
   ],
   "source": [
    "from ultralytics import YOLO\n",
    "import cv2\n",
    "import numpy as np\n",
    "\n",
    "model = YOLO('yolov8n.pt')\n",
    "cap = cv2.VideoCapture('wiiplay.mp4')\n",
    "\n",
    "start_frame = 41000\n",
    "end_frame = 44000\n",
    "\n",
    "cap.set(cv2.CAP_PROP_POS_FRAMES, start_frame)\n",
    "\n",
    "max_people_count = 0\n",
    "frame_with_max_people = None\n",
    "\n",
    "while True:\n",
    "    ret, frame = cap.read()\n",
    "    if ret == False:\n",
    "        break\n",
    "        \n",
    "    results = model.predict(frame, conf=0.20)\n",
    "\n",
    "    people_count = 0 # 初始化人數\n",
    "    for result in results:\n",
    "        for box in result.boxes:\n",
    "            label = results[0].names[int(box.cls)]\n",
    "            if label == 'person':\n",
    "                people_count += 1\n",
    "                left, top, right, bottom = np.array(box.xyxy, dtype=np.uint16).squeeze() #convert from tensor to list\n",
    "                confidence = float(box.conf.cpu())\n",
    "                cv2.rectangle(frame, (left, top), (right, bottom), (255, 0, 0), 2)\n",
    "                cv2.putText(frame, label+' '+'{:.2f}'.format(confidence),(left+5, bottom-10),cv2.FONT_HERSHEY_SIMPLEX, 0.6, (0, 0, 255), 1, cv2.LINE_AA)\n",
    "\n",
    "    # 計算最大人數的frame\n",
    "    if people_count > max_people_count:\n",
    "        max_people_count = people_count\n",
    "        frame_with_max_people = frame.copy()\n",
    "        \n",
    "    # 在左上角顯示人數總數\n",
    "    cv2.putText(frame, f'Persons: {people_count}', (10, 30), cv2.FONT_HERSHEY_SIMPLEX, 1, (0, 255, 0), 2, cv2.LINE_AA)\n",
    "    cv2.imshow('Output', frame)\n",
    "    \n",
    "    if cap.get(cv2.CAP_PROP_POS_FRAMES) == end_frame:\n",
    "        break\n",
    "    c = cv2.waitKey(1)\n",
    "    if c == 27:\n",
    "        break\n",
    "\n",
    "cap.release()\n",
    "cv2.destroyAllWindows()\n",
    "\n",
    "# 顯示最多人數的frame\n",
    "if frame_with_max_people is not None:\n",
    "    cv2.putText(frame_with_max_people, f'Max People:{max_people_count}', (10, 30), cv2.FONT_HERSHEY_SIMPLEX, 1, (0, 255, 0), 2, cv2.LINE_AA)\n",
    "    cv2.imshow('Frame with Most People', frame_with_max_people)\n",
    "    cv2.waitKey(0)\n",
    "    cv2.destroyAllWindows()"
   ]
  },
  {
   "cell_type": "code",
   "execution_count": null,
   "id": "7ad4810a-9442-4ebd-9dfa-39b0d8c30288",
   "metadata": {},
   "outputs": [],
   "source": []
  }
 ],
 "metadata": {
  "kernelspec": {
   "display_name": "Computer_Vision",
   "language": "python",
   "name": "computer_vision"
  },
  "language_info": {
   "codemirror_mode": {
    "name": "ipython",
    "version": 3
   },
   "file_extension": ".py",
   "mimetype": "text/x-python",
   "name": "python",
   "nbconvert_exporter": "python",
   "pygments_lexer": "ipython3",
   "version": "3.7.16"
  }
 },
 "nbformat": 4,
 "nbformat_minor": 5
}
