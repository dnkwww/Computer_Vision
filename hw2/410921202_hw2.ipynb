{
 "cells": [
  {
   "cell_type": "markdown",
   "id": "4922f48f-a59e-4552-b619-81c8b76568ce",
   "metadata": {},
   "source": [
    "# 410921202 資工四 林芷萱 電腦視覺 HW2"
   ]
  },
  {
   "cell_type": "markdown",
   "id": "6da56a6d-80e5-455a-b1cc-6d87604f5550",
   "metadata": {},
   "source": [
    "在這次的程式碼中我多次計算玩家面向的方向，但我得不出其結果，如下程式碼:  \n",
    "繪製線條  \n",
    "end_point = tuple(np.array(c_cyan) + 20 * normalized_vector)  \n",
    "cv2.line(image, c_cyan, tuple(map(int, end_point)), (0, 255, 255), 2)  \n",
    "這部分程式碼印出來的線條跟player面向方向有誤\n",
    "最後我決定計算的角度採用計算玩家的質心到最近一個塔的質心之間的旋轉角度"
   ]
  },
  {
   "cell_type": "code",
   "execution_count": 1,
   "id": "da9055cb-9ed9-4eb9-a7de-6818c7b41539",
   "metadata": {},
   "outputs": [],
   "source": [
    "import cv2\n",
    "import numpy as np\n",
    "\n",
    "image = cv2.imread('input1.png')\n",
    "\n",
    "# 定義青色和紅色的範圍\n",
    "lower_cyan = np.array([90, 200, 100]) \n",
    "upper_cyan = np.array([255, 255, 130])\n",
    "lower_red = np.array([0, 0, 150]) \n",
    "upper_red = np.array([25, 25, 255])\n",
    "\n",
    "cyan_mask = cv2.inRange(image, lower_cyan, upper_cyan)\n",
    "red_mask = cv2.inRange(image, lower_red, upper_red)\n",
    "\n",
    "# 尋找玩家(青色)的輪廓\n",
    "contours_cyan, _ = cv2.findContours(cyan_mask, cv2.RETR_EXTERNAL, cv2.CHAIN_APPROX_SIMPLE)\n",
    "# 如果找到了青色區域的輪廓，則計算面積最大的輪廓的質心和方向\n",
    "if contours_cyan:\n",
    "    cnt_cyan = max(contours_cyan, key=cv2.contourArea)\n",
    "    M_cyan = cv2.moments(cnt_cyan)\n",
    "    cX_cyan = int(M_cyan[\"m10\"] / M_cyan[\"m00\"])\n",
    "    cY_cyan = int(M_cyan[\"m01\"] / M_cyan[\"m00\"])\n",
    "\n",
    "    # 找面向的方向\n",
    "    approx_cyan = cv2.approxPolyDP(cnt_cyan, 0.01 * cv2.arcLength(cnt_cyan, True), True)\n",
    "    c_cyan = (cX_cyan, cY_cyan)\n",
    "\n",
    "    # 計算面向之向量\n",
    "    c1, c2, c3 = approx_cyan[:3, 0]\n",
    "    vector1 = np.array([c1[0] - c2[0], c1[1] - c2[1]])\n",
    "    vector2 = np.array([c3[0] - c2[0], c3[1] - c2[1]])\n",
    "    normalized_vector = vector2 - vector1\n",
    "    normalized_vector = normalized_vector.astype(float)\n",
    "    normalized_vector /= np.linalg.norm(normalized_vector)\n",
    "\n",
    "    # 繪製線條\n",
    "    end_point = tuple(np.array(c_cyan) + 20 * normalized_vector)\n",
    "    # print(end_point)\n",
    "    cv2.line(image, c_cyan, tuple(map(int, end_point)), (0, 255, 255), 2)\n",
    "\n",
    "    # 尋找最近的shrine(紅色)\n",
    "    contours_red, _ = cv2.findContours(red_mask, cv2.RETR_EXTERNAL, cv2.CHAIN_APPROX_SIMPLE)\n",
    "    if contours_red:\n",
    "        nearest_shrine_distance = float('inf')\n",
    "        nearest_shrine_center = None\n",
    "        for contour in contours_red:\n",
    "            M_red = cv2.moments(contour)\n",
    "            if M_red[\"m00\"] != 0:\n",
    "                cX_red = int(M_red[\"m10\"] / M_red[\"m00\"])\n",
    "                cY_red = int(M_red[\"m01\"] / M_red[\"m00\"])\n",
    "                distance = np.sqrt((cX_red - cX_cyan)**2 + (cY_red - cY_cyan)**2)\n",
    "                if distance < nearest_shrine_distance:\n",
    "                    nearest_shrine_distance = distance\n",
    "                    nearest_shrine_center = (cX_red, cY_red)\n",
    "\n",
    "        # 計算旋轉角度\n",
    "        vector = np.array(nearest_shrine_center) - np.array(c_cyan)\n",
    "        angle = np.arctan2(vector[1], vector[0]) * 180 / np.pi # 使用 np.arctan2() 計算青色區域的質心到最近紅色區域的質心之間的旋轉角度\n",
    "        \n",
    "        # 繪製到最近的shrine的黃線\n",
    "        cv2.line(image, c_cyan, nearest_shrine_center, (0, 255, 255), 2) # 使用 cv2.line() 繪製連接青色區域質心和最近紅色區域質心的線條\n",
    "        # 顯示角度\n",
    "        cv2.putText(image, f'{angle:.2f}', (1, 30), cv2.FONT_HERSHEY_SIMPLEX, 1, (0, 255, 255), 2)\n",
    "\n",
    "cv2.imshow(\"Result\", image)\n",
    "cv2.waitKey(0)\n",
    "cv2.destroyAllWindows()\n"
   ]
  },
  {
   "cell_type": "code",
   "execution_count": null,
   "id": "56ae3b7c-4c47-48e8-8552-3a165f37f7c8",
   "metadata": {},
   "outputs": [],
   "source": []
  }
 ],
 "metadata": {
  "kernelspec": {
   "display_name": "Python 3 (ipykernel)",
   "language": "python",
   "name": "python3"
  },
  "language_info": {
   "codemirror_mode": {
    "name": "ipython",
    "version": 3
   },
   "file_extension": ".py",
   "mimetype": "text/x-python",
   "name": "python",
   "nbconvert_exporter": "python",
   "pygments_lexer": "ipython3",
   "version": "3.9.13"
  }
 },
 "nbformat": 4,
 "nbformat_minor": 5
}
